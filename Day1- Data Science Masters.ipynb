{
 "cells": [
  {
   "cell_type": "markdown",
   "id": "b8a49466-1f7e-41b7-bc78-56ae3d15c1ce",
   "metadata": {},
   "source": [
    "### Number"
   ]
  },
  {
   "cell_type": "code",
   "execution_count": 3,
   "id": "8e717380-8a65-4598-a52b-fdac53d74387",
   "metadata": {},
   "outputs": [
    {
     "data": {
      "text/plain": [
       "4"
      ]
     },
     "execution_count": 3,
     "metadata": {},
     "output_type": "execute_result"
    }
   ],
   "source": [
    "(1+3)"
   ]
  },
  {
   "cell_type": "code",
   "execution_count": 4,
   "id": "2a9ae1f0-b4f6-4110-8b97-6dfdec938fe3",
   "metadata": {},
   "outputs": [
    {
     "name": "stdout",
     "output_type": "stream",
     "text": [
      "4\n"
     ]
    }
   ],
   "source": [
    "print(1+3)"
   ]
  },
  {
   "cell_type": "code",
   "execution_count": 1,
   "id": "8bb235f8-c070-4ee4-a5dd-23380759fb66",
   "metadata": {},
   "outputs": [
    {
     "name": "stdout",
     "output_type": "stream",
     "text": [
      "5\n"
     ]
    }
   ],
   "source": [
    "a=5\n",
    "print(a)"
   ]
  },
  {
   "cell_type": "code",
   "execution_count": 5,
   "id": "de37a22b-a3c4-4149-99e4-d942c779f9b7",
   "metadata": {},
   "outputs": [
    {
     "name": "stdout",
     "output_type": "stream",
     "text": [
      "hello world my name is Suraj i work \n",
      " as student and Ganger Global\n"
     ]
    }
   ],
   "source": [
    "print(\"hello world my name is Suraj i work \\n as student and Ganger Global\")"
   ]
  },
  {
   "cell_type": "markdown",
   "id": "34be8b42-949a-4c17-b680-a608fed21fb2",
   "metadata": {},
   "source": [
    "### Variable Assigments"
   ]
  },
  {
   "cell_type": "code",
   "execution_count": 6,
   "id": "7e09f664-694d-42e6-b1f7-0d944eb250ba",
   "metadata": {},
   "outputs": [],
   "source": [
    "name=\"suraj\"\n",
    "company= \"PWskills and ineoron\""
   ]
  },
  {
   "cell_type": "code",
   "execution_count": 18,
   "id": "1bcc4908-09c7-4de7-b2d8-8d3bc8682527",
   "metadata": {},
   "outputs": [
    {
     "data": {
      "text/plain": [
       "str"
      ]
     },
     "execution_count": 18,
     "metadata": {},
     "output_type": "execute_result"
    }
   ],
   "source": [
    "type(\"fmhdgvHvm\")"
   ]
  },
  {
   "cell_type": "code",
   "execution_count": 19,
   "id": "2e8b4687-580c-46ae-9f26-ccbfe67d0e1e",
   "metadata": {},
   "outputs": [
    {
     "data": {
      "text/plain": [
       "str"
      ]
     },
     "execution_count": 19,
     "metadata": {},
     "output_type": "execute_result"
    }
   ],
   "source": [
    "type(name)"
   ]
  },
  {
   "cell_type": "code",
   "execution_count": 20,
   "id": "23f16cab-d8fd-49ed-a224-d7e04303a768",
   "metadata": {},
   "outputs": [
    {
     "data": {
      "text/plain": [
       "int"
      ]
     },
     "execution_count": 20,
     "metadata": {},
     "output_type": "execute_result"
    }
   ],
   "source": [
    "type(number)"
   ]
  },
  {
   "cell_type": "code",
   "execution_count": 12,
   "id": "bffeb348-c485-4b54-ab4d-b0b7db064fae",
   "metadata": {},
   "outputs": [],
   "source": [
    "name=\"Bala\""
   ]
  },
  {
   "cell_type": "code",
   "execution_count": 13,
   "id": "d610eb81-338b-40ab-93e1-f41065af564f",
   "metadata": {},
   "outputs": [
    {
     "data": {
      "text/plain": [
       "'Bala'"
      ]
     },
     "execution_count": 13,
     "metadata": {},
     "output_type": "execute_result"
    }
   ],
   "source": [
    "name"
   ]
  },
  {
   "cell_type": "code",
   "execution_count": 8,
   "id": "45783405-6ade-4e10-867d-27692e598dba",
   "metadata": {},
   "outputs": [
    {
     "data": {
      "text/plain": [
       "'PWskills and ineoron'"
      ]
     },
     "execution_count": 8,
     "metadata": {},
     "output_type": "execute_result"
    }
   ],
   "source": [
    "company"
   ]
  },
  {
   "cell_type": "code",
   "execution_count": 9,
   "id": "236904d5-0005-450e-90cc-d76f2c7f5cef",
   "metadata": {},
   "outputs": [],
   "source": [
    "number=10 "
   ]
  },
  {
   "cell_type": "code",
   "execution_count": 15,
   "id": "d629b297-6400-44fd-b290-0f3f7941c486",
   "metadata": {},
   "outputs": [
    {
     "data": {
      "text/plain": [
       "20"
      ]
     },
     "execution_count": 15,
     "metadata": {},
     "output_type": "execute_result"
    }
   ],
   "source": [
    "number=20\n",
    "number"
   ]
  },
  {
   "cell_type": "code",
   "execution_count": 21,
   "id": "4aa67c1a-614a-4ce8-8868-0fa8f2b982c0",
   "metadata": {},
   "outputs": [],
   "source": [
    "decimal_num=2.5"
   ]
  },
  {
   "cell_type": "code",
   "execution_count": 22,
   "id": "d600bb87-cc00-4355-82ca-6523542905d7",
   "metadata": {},
   "outputs": [
    {
     "data": {
      "text/plain": [
       "2.5"
      ]
     },
     "execution_count": 22,
     "metadata": {},
     "output_type": "execute_result"
    }
   ],
   "source": [
    "decimal_num"
   ]
  },
  {
   "cell_type": "code",
   "execution_count": 23,
   "id": "76d382a7-7149-4126-a449-940be337031c",
   "metadata": {},
   "outputs": [
    {
     "data": {
      "text/plain": [
       "float"
      ]
     },
     "execution_count": 23,
     "metadata": {},
     "output_type": "execute_result"
    }
   ],
   "source": [
    "type(decimal_num)"
   ]
  },
  {
   "cell_type": "code",
   "execution_count": 24,
   "id": "858dc2d1-79c0-4f52-a740-221b58ea5ba0",
   "metadata": {},
   "outputs": [
    {
     "data": {
      "text/plain": [
       "str"
      ]
     },
     "execution_count": 24,
     "metadata": {},
     "output_type": "execute_result"
    }
   ],
   "source": [
    "type(\"hello\")"
   ]
  },
  {
   "cell_type": "code",
   "execution_count": 26,
   "id": "5dd3e33b-48ad-45b8-a00b-6036e48a7d53",
   "metadata": {},
   "outputs": [
    {
     "data": {
      "text/plain": [
       "complex"
      ]
     },
     "execution_count": 26,
     "metadata": {},
     "output_type": "execute_result"
    }
   ],
   "source": [
    "type(1+2j)"
   ]
  },
  {
   "cell_type": "code",
   "execution_count": 27,
   "id": "2b2efc13-e7b3-4c9f-b324-18a0bd831123",
   "metadata": {},
   "outputs": [
    {
     "name": "stdout",
     "output_type": "stream",
     "text": [
      "hello\n",
      "hello\n"
     ]
    }
   ],
   "source": [
    "print('hello')\n",
    "print(\"hello\")"
   ]
  },
  {
   "cell_type": "markdown",
   "id": "7f28fe18-5929-4525-ae85-325ce58fce0f",
   "metadata": {},
   "source": [
    "### don't start the variable name with numbers\n",
    "1a\n",
    "3answer"
   ]
  },
  {
   "cell_type": "code",
   "execution_count": null,
   "id": "83ee4a53-c30e-420b-99ed-03367717f9d7",
   "metadata": {},
   "outputs": [],
   "source": [
    "number1=23"
   ]
  },
  {
   "cell_type": "code",
   "execution_count": 30,
   "id": "cce2edc3-9786-4a2c-ba44-54bbc84ce5fb",
   "metadata": {},
   "outputs": [
    {
     "name": "stdout",
     "output_type": "stream",
     "text": [
      "ineuron\n",
      "PWSKILLS\n"
     ]
    }
   ],
   "source": [
    "### Variable are case senseitive \n",
    "company='ineuron'\n",
    "Company='PWSKILLS'\n",
    "print(company)\n",
    "print(Company)"
   ]
  },
  {
   "cell_type": "code",
   "execution_count": null,
   "id": "99bd753f-3117-4219-96c5-ff6ef909d3e6",
   "metadata": {},
   "outputs": [],
   "source": [
    "### Reserved keywords\n",
    "'''\n",
    "int, float, len, complex, bool, str, return, yield\n",
    "'''"
   ]
  },
  {
   "cell_type": "code",
   "execution_count": 31,
   "id": "5c1f2324-b25e-4bd8-8631-7fbca362f927",
   "metadata": {},
   "outputs": [
    {
     "data": {
      "text/plain": [
       "True"
      ]
     },
     "execution_count": 31,
     "metadata": {},
     "output_type": "execute_result"
    }
   ],
   "source": [
    "### Boolean\n",
    "True"
   ]
  },
  {
   "cell_type": "code",
   "execution_count": 32,
   "id": "6c21ab7a-a99f-451c-b6ed-d6105e094ae4",
   "metadata": {},
   "outputs": [
    {
     "data": {
      "text/plain": [
       "False"
      ]
     },
     "execution_count": 32,
     "metadata": {},
     "output_type": "execute_result"
    }
   ],
   "source": [
    "False"
   ]
  },
  {
   "cell_type": "code",
   "execution_count": 33,
   "id": "83619765-f8d8-4fda-97c1-60e5a2bb3bcd",
   "metadata": {},
   "outputs": [
    {
     "data": {
      "text/plain": [
       "False"
      ]
     },
     "execution_count": 33,
     "metadata": {},
     "output_type": "execute_result"
    }
   ],
   "source": [
    "True and False"
   ]
  },
  {
   "cell_type": "code",
   "execution_count": 34,
   "id": "216484f6-7326-4d87-8f42-e7726d9d86e2",
   "metadata": {},
   "outputs": [
    {
     "data": {
      "text/plain": [
       "True"
      ]
     },
     "execution_count": 34,
     "metadata": {},
     "output_type": "execute_result"
    }
   ],
   "source": [
    "True or False"
   ]
  },
  {
   "cell_type": "code",
   "execution_count": 35,
   "id": "f121f8c2-06c3-4a74-ab96-0487fd457cdb",
   "metadata": {},
   "outputs": [
    {
     "data": {
      "text/plain": [
       "False"
      ]
     },
     "execution_count": 35,
     "metadata": {},
     "output_type": "execute_result"
    }
   ],
   "source": [
    "not True"
   ]
  },
  {
   "cell_type": "code",
   "execution_count": 37,
   "id": "948e3670-f8ab-4513-9b40-5d7a16288c8c",
   "metadata": {},
   "outputs": [
    {
     "data": {
      "text/plain": [
       "bool"
      ]
     },
     "execution_count": 37,
     "metadata": {},
     "output_type": "execute_result"
    }
   ],
   "source": [
    "type(not False)"
   ]
  },
  {
   "cell_type": "code",
   "execution_count": 38,
   "id": "4d13e794-4fcf-4e9e-b155-008b4a207dc9",
   "metadata": {},
   "outputs": [
    {
     "data": {
      "text/plain": [
       "False"
      ]
     },
     "execution_count": 38,
     "metadata": {},
     "output_type": "execute_result"
    }
   ],
   "source": [
    "### Typecasting\n",
    "bool(0)"
   ]
  },
  {
   "cell_type": "code",
   "execution_count": 39,
   "id": "537244f3-d3ad-4f3a-b1d0-b1213f570c25",
   "metadata": {},
   "outputs": [
    {
     "data": {
      "text/plain": [
       "True"
      ]
     },
     "execution_count": 39,
     "metadata": {},
     "output_type": "execute_result"
    }
   ],
   "source": [
    "bool(1)"
   ]
  },
  {
   "cell_type": "code",
   "execution_count": 51,
   "id": "428a8dcf-1baf-45ac-ae0c-1b6fa9d276d6",
   "metadata": {},
   "outputs": [
    {
     "name": "stdout",
     "output_type": "stream",
     "text": [
      "True\n"
     ]
    }
   ],
   "source": [
    "a=1 \n",
    "if bool(a)==True:\n",
    "    \n",
    "    print('True')"
   ]
  },
  {
   "cell_type": "code",
   "execution_count": 52,
   "id": "b033d00f-d593-4007-89b6-9ba30f3a8ce7",
   "metadata": {},
   "outputs": [
    {
     "data": {
      "text/plain": [
       "'23'"
      ]
     },
     "execution_count": 52,
     "metadata": {},
     "output_type": "execute_result"
    }
   ],
   "source": [
    "str(23) "
   ]
  },
  {
   "cell_type": "code",
   "execution_count": 54,
   "id": "e468f240-eb2f-4ebd-aae3-d1de1bb2912b",
   "metadata": {},
   "outputs": [
    {
     "data": {
      "text/plain": [
       "23"
      ]
     },
     "execution_count": 54,
     "metadata": {},
     "output_type": "execute_result"
    }
   ],
   "source": [
    "int('23') "
   ]
  },
  {
   "cell_type": "code",
   "execution_count": 55,
   "id": "532bc1de-a2c2-4f20-89b4-92e56917dcfd",
   "metadata": {},
   "outputs": [
    {
     "data": {
      "text/plain": [
       "int"
      ]
     },
     "execution_count": 55,
     "metadata": {},
     "output_type": "execute_result"
    }
   ],
   "source": [
    "type(int('23')) "
   ]
  },
  {
   "cell_type": "markdown",
   "id": "49edee61-e792-447a-b619-2cb3b5bf2e61",
   "metadata": {},
   "source": [
    "### Dynamic Typing"
   ]
  },
  {
   "cell_type": "code",
   "execution_count": null,
   "id": "68aa000d-56e5-4fbb-b7e2-67681607dc13",
   "metadata": {},
   "outputs": [],
   "source": [
    "a=12\n",
    "str1=('Krish')\n",
    "a=\"var\""
   ]
  },
  {
   "cell_type": "code",
   "execution_count": 57,
   "id": "837bae66-9f6b-4cb7-bd45-611ce7416c04",
   "metadata": {},
   "outputs": [
    {
     "name": "stdout",
     "output_type": "stream",
     "text": [
      "<class 'int'>\n"
     ]
    }
   ],
   "source": [
    "print(type(a)) "
   ]
  },
  {
   "cell_type": "code",
   "execution_count": 58,
   "id": "e58db9ba-2bc9-4df1-90e1-584390d9baf9",
   "metadata": {},
   "outputs": [
    {
     "data": {
      "text/plain": [
       "1"
      ]
     },
     "execution_count": 58,
     "metadata": {},
     "output_type": "execute_result"
    }
   ],
   "source": [
    "int(1.54) "
   ]
  },
  {
   "cell_type": "code",
   "execution_count": null,
   "id": "397f4b93-022e-4d5a-affc-4503585d0f5d",
   "metadata": {},
   "outputs": [],
   "source": [
    "### Concatenation between different types"
   ]
  },
  {
   "cell_type": "code",
   "execution_count": 59,
   "id": "bf5eebc8-0a48-4a71-941f-3b0d23b53681",
   "metadata": {},
   "outputs": [
    {
     "data": {
      "text/plain": [
       "'11'"
      ]
     },
     "execution_count": 59,
     "metadata": {},
     "output_type": "execute_result"
    }
   ],
   "source": [
    "\"1\"+\"1\""
   ]
  },
  {
   "cell_type": "code",
   "execution_count": 60,
   "id": "1073c314-ee04-482c-b9dd-c2b670215a12",
   "metadata": {},
   "outputs": [
    {
     "data": {
      "text/plain": [
       "2"
      ]
     },
     "execution_count": 60,
     "metadata": {},
     "output_type": "execute_result"
    }
   ],
   "source": [
    "int(\"1\")+int(\"1\") "
   ]
  },
  {
   "cell_type": "code",
   "execution_count": 61,
   "id": "69acacbb-6a08-4cf1-b87f-220bbbd00b4a",
   "metadata": {},
   "outputs": [
    {
     "ename": "TypeError",
     "evalue": "can't multiply sequence by non-int of type 'str'",
     "output_type": "error",
     "traceback": [
      "\u001b[0;31m---------------------------------------------------------------------------\u001b[0m",
      "\u001b[0;31mTypeError\u001b[0m                                 Traceback (most recent call last)",
      "Cell \u001b[0;32mIn[61], line 1\u001b[0m\n\u001b[0;32m----> 1\u001b[0m \u001b[38;5;124;43m\"\u001b[39;49m\u001b[38;5;124;43m1\u001b[39;49m\u001b[38;5;124;43m\"\u001b[39;49m\u001b[38;5;241;43m*\u001b[39;49m\u001b[38;5;124;43m\"\u001b[39;49m\u001b[38;5;124;43m1\u001b[39;49m\u001b[38;5;124;43m\"\u001b[39;49m \n",
      "\u001b[0;31mTypeError\u001b[0m: can't multiply sequence by non-int of type 'str'"
     ]
    }
   ],
   "source": [
    "\"1\"*\"1\" "
   ]
  },
  {
   "cell_type": "code",
   "execution_count": 62,
   "id": "544befa5-815e-409b-8bd5-fa8b5e93ed73",
   "metadata": {},
   "outputs": [
    {
     "data": {
      "text/plain": [
       "'1111111111111111111111111111111111111111111111111111111111111111111111111111111111111111111111111111'"
      ]
     },
     "execution_count": 62,
     "metadata": {},
     "output_type": "execute_result"
    }
   ],
   "source": [
    "\"1\"* 100 "
   ]
  },
  {
   "cell_type": "code",
   "execution_count": null,
   "id": "8c79baa8-a3ae-422c-a0b0-c279657385df",
   "metadata": {},
   "outputs": [],
   "source": []
  }
 ],
 "metadata": {
  "kernelspec": {
   "display_name": "Python 3 (ipykernel)",
   "language": "python",
   "name": "python3"
  },
  "language_info": {
   "codemirror_mode": {
    "name": "ipython",
    "version": 3
   },
   "file_extension": ".py",
   "mimetype": "text/x-python",
   "name": "python",
   "nbconvert_exporter": "python",
   "pygments_lexer": "ipython3",
   "version": "3.10.8"
  }
 },
 "nbformat": 4,
 "nbformat_minor": 5
}
